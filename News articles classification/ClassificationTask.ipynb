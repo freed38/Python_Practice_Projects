{
 "cells": [
  {
   "cell_type": "code",
   "execution_count": 1,
   "id": "dca94966",
   "metadata": {},
   "outputs": [],
   "source": [
    "#News classification problem (4 hours spent)"
   ]
  },
  {
   "cell_type": "code",
   "execution_count": 2,
   "id": "37d6ff9e",
   "metadata": {},
   "outputs": [],
   "source": [
    "import pandas as pd\n",
    "import numpy as np\n",
    "import matplotlib.pyplot as plt\n",
    "import seaborn as sns\n",
    "%matplotlib inline"
   ]
  },
  {
   "cell_type": "code",
   "execution_count": 8,
   "id": "8401fd79",
   "metadata": {},
   "outputs": [],
   "source": [
    "df=pd.read_csv('TrainingSet.csv',encoding_errors='ignore')"
   ]
  },
  {
   "cell_type": "code",
   "execution_count": 11,
   "id": "37f7c2d7",
   "metadata": {},
   "outputs": [
    {
     "data": {
      "text/html": [
       "<div>\n",
       "<style scoped>\n",
       "    .dataframe tbody tr th:only-of-type {\n",
       "        vertical-align: middle;\n",
       "    }\n",
       "\n",
       "    .dataframe tbody tr th {\n",
       "        vertical-align: top;\n",
       "    }\n",
       "\n",
       "    .dataframe thead th {\n",
       "        text-align: right;\n",
       "    }\n",
       "</style>\n",
       "<table border=\"1\" class=\"dataframe\">\n",
       "  <thead>\n",
       "    <tr style=\"text-align: right;\">\n",
       "      <th></th>\n",
       "      <th>record_id</th>\n",
       "      <th>news_link</th>\n",
       "      <th>news_title</th>\n",
       "      <th>sys_news_type</th>\n",
       "      <th>Unnamed: 4</th>\n",
       "      <th>Unnamed: 5</th>\n",
       "      <th>Unnamed: 6</th>\n",
       "    </tr>\n",
       "  </thead>\n",
       "  <tbody>\n",
       "    <tr>\n",
       "      <th>0</th>\n",
       "      <td>1</td>\n",
       "      <td>https://www.google.com/url?rct=j&amp;sa=t&amp;url=http...</td>\n",
       "      <td>FOMC Meeting, ADP Non Farm Dan ISM Manufacturi...</td>\n",
       "      <td>leadership</td>\n",
       "      <td>NaN</td>\n",
       "      <td>NaN</td>\n",
       "      <td>NaN</td>\n",
       "    </tr>\n",
       "    <tr>\n",
       "      <th>1</th>\n",
       "      <td>2</td>\n",
       "      <td>https://www.google.com/url?rct=j&amp;sa=t&amp;url=http...</td>\n",
       "      <td>Customer Service Representative in Chatham ON ...</td>\n",
       "      <td>partnership/alliance</td>\n",
       "      <td>NaN</td>\n",
       "      <td>NaN</td>\n",
       "      <td>NaN</td>\n",
       "    </tr>\n",
       "    <tr>\n",
       "      <th>2</th>\n",
       "      <td>4</td>\n",
       "      <td>https://www.google.com/url?rct=j&amp;sa=t&amp;url=http...</td>\n",
       "      <td>Wipro Acquires Phillippines Brand Splash</td>\n",
       "      <td>m&amp;a</td>\n",
       "      <td>NaN</td>\n",
       "      <td>NaN</td>\n",
       "      <td>NaN</td>\n",
       "    </tr>\n",
       "    <tr>\n",
       "      <th>3</th>\n",
       "      <td>6</td>\n",
       "      <td>https://www.google.com/url?rct=j&amp;sa=t&amp;url=http...</td>\n",
       "      <td>Corient Capital Partners LLC Has $50000 Holdin...</td>\n",
       "      <td>finance</td>\n",
       "      <td>NaN</td>\n",
       "      <td>NaN</td>\n",
       "      <td>NaN</td>\n",
       "    </tr>\n",
       "    <tr>\n",
       "      <th>4</th>\n",
       "      <td>7</td>\n",
       "      <td>https://www.google.com/url?rct=j&amp;sa=t&amp;url=http...</td>\n",
       "      <td>Deutsche Bank ordered to tighten controls on m...</td>\n",
       "      <td>partnership/alliance</td>\n",
       "      <td>NaN</td>\n",
       "      <td>NaN</td>\n",
       "      <td>NaN</td>\n",
       "    </tr>\n",
       "  </tbody>\n",
       "</table>\n",
       "</div>"
      ],
      "text/plain": [
       "   record_id                                          news_link  \\\n",
       "0          1  https://www.google.com/url?rct=j&sa=t&url=http...   \n",
       "1          2  https://www.google.com/url?rct=j&sa=t&url=http...   \n",
       "2          4  https://www.google.com/url?rct=j&sa=t&url=http...   \n",
       "3          6  https://www.google.com/url?rct=j&sa=t&url=http...   \n",
       "4          7  https://www.google.com/url?rct=j&sa=t&url=http...   \n",
       "\n",
       "                                          news_title         sys_news_type  \\\n",
       "0  FOMC Meeting, ADP Non Farm Dan ISM Manufacturi...            leadership   \n",
       "1  Customer Service Representative in Chatham ON ...  partnership/alliance   \n",
       "2           Wipro Acquires Phillippines Brand Splash                   m&a   \n",
       "3  Corient Capital Partners LLC Has $50000 Holdin...               finance   \n",
       "4  Deutsche Bank ordered to tighten controls on m...  partnership/alliance   \n",
       "\n",
       "   Unnamed: 4  Unnamed: 5  Unnamed: 6  \n",
       "0         NaN         NaN         NaN  \n",
       "1         NaN         NaN         NaN  \n",
       "2         NaN         NaN         NaN  \n",
       "3         NaN         NaN         NaN  \n",
       "4         NaN         NaN         NaN  "
      ]
     },
     "execution_count": 11,
     "metadata": {},
     "output_type": "execute_result"
    }
   ],
   "source": [
    "df.head()"
   ]
  },
  {
   "cell_type": "code",
   "execution_count": 13,
   "id": "06454974",
   "metadata": {},
   "outputs": [],
   "source": [
    "df=df[['record_id','news_link','news_title','sys_news_type']]"
   ]
  },
  {
   "cell_type": "code",
   "execution_count": 14,
   "id": "40193103",
   "metadata": {},
   "outputs": [
    {
     "data": {
      "text/html": [
       "<div>\n",
       "<style scoped>\n",
       "    .dataframe tbody tr th:only-of-type {\n",
       "        vertical-align: middle;\n",
       "    }\n",
       "\n",
       "    .dataframe tbody tr th {\n",
       "        vertical-align: top;\n",
       "    }\n",
       "\n",
       "    .dataframe thead th {\n",
       "        text-align: right;\n",
       "    }\n",
       "</style>\n",
       "<table border=\"1\" class=\"dataframe\">\n",
       "  <thead>\n",
       "    <tr style=\"text-align: right;\">\n",
       "      <th></th>\n",
       "      <th>record_id</th>\n",
       "      <th>news_link</th>\n",
       "      <th>news_title</th>\n",
       "      <th>sys_news_type</th>\n",
       "    </tr>\n",
       "  </thead>\n",
       "  <tbody>\n",
       "    <tr>\n",
       "      <th>0</th>\n",
       "      <td>1</td>\n",
       "      <td>https://www.google.com/url?rct=j&amp;sa=t&amp;url=http...</td>\n",
       "      <td>FOMC Meeting, ADP Non Farm Dan ISM Manufacturi...</td>\n",
       "      <td>leadership</td>\n",
       "    </tr>\n",
       "    <tr>\n",
       "      <th>1</th>\n",
       "      <td>2</td>\n",
       "      <td>https://www.google.com/url?rct=j&amp;sa=t&amp;url=http...</td>\n",
       "      <td>Customer Service Representative in Chatham ON ...</td>\n",
       "      <td>partnership/alliance</td>\n",
       "    </tr>\n",
       "    <tr>\n",
       "      <th>2</th>\n",
       "      <td>4</td>\n",
       "      <td>https://www.google.com/url?rct=j&amp;sa=t&amp;url=http...</td>\n",
       "      <td>Wipro Acquires Phillippines Brand Splash</td>\n",
       "      <td>m&amp;a</td>\n",
       "    </tr>\n",
       "    <tr>\n",
       "      <th>3</th>\n",
       "      <td>6</td>\n",
       "      <td>https://www.google.com/url?rct=j&amp;sa=t&amp;url=http...</td>\n",
       "      <td>Corient Capital Partners LLC Has $50000 Holdin...</td>\n",
       "      <td>finance</td>\n",
       "    </tr>\n",
       "    <tr>\n",
       "      <th>4</th>\n",
       "      <td>7</td>\n",
       "      <td>https://www.google.com/url?rct=j&amp;sa=t&amp;url=http...</td>\n",
       "      <td>Deutsche Bank ordered to tighten controls on m...</td>\n",
       "      <td>partnership/alliance</td>\n",
       "    </tr>\n",
       "  </tbody>\n",
       "</table>\n",
       "</div>"
      ],
      "text/plain": [
       "   record_id                                          news_link  \\\n",
       "0          1  https://www.google.com/url?rct=j&sa=t&url=http...   \n",
       "1          2  https://www.google.com/url?rct=j&sa=t&url=http...   \n",
       "2          4  https://www.google.com/url?rct=j&sa=t&url=http...   \n",
       "3          6  https://www.google.com/url?rct=j&sa=t&url=http...   \n",
       "4          7  https://www.google.com/url?rct=j&sa=t&url=http...   \n",
       "\n",
       "                                          news_title         sys_news_type  \n",
       "0  FOMC Meeting, ADP Non Farm Dan ISM Manufacturi...            leadership  \n",
       "1  Customer Service Representative in Chatham ON ...  partnership/alliance  \n",
       "2           Wipro Acquires Phillippines Brand Splash                   m&a  \n",
       "3  Corient Capital Partners LLC Has $50000 Holdin...               finance  \n",
       "4  Deutsche Bank ordered to tighten controls on m...  partnership/alliance  "
      ]
     },
     "execution_count": 14,
     "metadata": {},
     "output_type": "execute_result"
    }
   ],
   "source": [
    "df.head()"
   ]
  },
  {
   "cell_type": "code",
   "execution_count": 16,
   "id": "2a43309c",
   "metadata": {},
   "outputs": [
    {
     "data": {
      "text/plain": [
       "<AxesSubplot:xlabel='sys_news_type', ylabel='count'>"
      ]
     },
     "execution_count": 16,
     "metadata": {},
     "output_type": "execute_result"
    },
    {
     "data": {
      "image/png": "[encoded data removed]",
      "text/plain": [
       "<Figure size 720x432 with 1 Axes>"
      ]
     },
     "metadata": {
      "needs_background": "light"
     },
     "output_type": "display_data"
    }
   ],
   "source": [
    "plt.figure(figsize=(10,6))\n",
    "sns.countplot(x=df['sys_news_type'])"
   ]
  },
  {
   "cell_type": "code",
   "execution_count": 17,
   "id": "4810a0cc",
   "metadata": {},
   "outputs": [
    {
     "data": {
      "text/plain": [
       "leadership              300\n",
       "partnership/alliance    300\n",
       "m&a                     300\n",
       "finance                 300\n",
       "product/solution        300\n",
       "Name: sys_news_type, dtype: int64"
      ]
     },
     "execution_count": 17,
     "metadata": {},
     "output_type": "execute_result"
    }
   ],
   "source": [
    "df['sys_news_type'].value_counts()"
   ]
  },
  {
   "cell_type": "code",
   "execution_count": 18,
   "id": "87324683",
   "metadata": {},
   "outputs": [],
   "source": [
    "##as we can see we have balanced dataset , each category has 300 articles"
   ]
  },
  {
   "cell_type": "code",
   "execution_count": 19,
   "id": "88fee627",
   "metadata": {},
   "outputs": [
    {
     "data": {
      "text/plain": [
       "record_id        0\n",
       "news_link        0\n",
       "news_title       0\n",
       "sys_news_type    0\n",
       "dtype: int64"
      ]
     },
     "execution_count": 19,
     "metadata": {},
     "output_type": "execute_result"
    }
   ],
   "source": [
    "df.isnull().sum()"
   ]
  },
  {
   "cell_type": "code",
   "execution_count": 20,
   "id": "2abe706c",
   "metadata": {},
   "outputs": [],
   "source": [
    "##we do not have the null values , so we can start training our model"
   ]
  },
  {
   "cell_type": "code",
   "execution_count": 21,
   "id": "a3321ba7",
   "metadata": {},
   "outputs": [],
   "source": [
    "from sklearn.feature_extraction.text import CountVectorizer\n",
    "from sklearn.model_selection import train_test_split\n",
    "from sklearn.naive_bayes import MultinomialNB"
   ]
  },
  {
   "cell_type": "code",
   "execution_count": 34,
   "id": "67102a01",
   "metadata": {},
   "outputs": [],
   "source": [
    "X = df['news_title']\n",
    "y = df['sys_news_type']"
   ]
  },
  {
   "cell_type": "code",
   "execution_count": 35,
   "id": "06ea0062",
   "metadata": {},
   "outputs": [],
   "source": [
    "cv= CountVectorizer()"
   ]
  },
  {
   "cell_type": "code",
   "execution_count": 36,
   "id": "8a150c72",
   "metadata": {},
   "outputs": [],
   "source": [
    "X=cv.fit_transform(X)"
   ]
  },
  {
   "cell_type": "code",
   "execution_count": 38,
   "id": "a00b652d",
   "metadata": {},
   "outputs": [
    {
     "data": {
      "text/plain": [
       "(1500, 4325)"
      ]
     },
     "execution_count": 38,
     "metadata": {},
     "output_type": "execute_result"
    }
   ],
   "source": [
    "X.shape"
   ]
  },
  {
   "cell_type": "code",
   "execution_count": 39,
   "id": "54c02969",
   "metadata": {},
   "outputs": [],
   "source": [
    "X_train, X_test, y_train, y_test = train_test_split(X, y, test_size=0.33, random_state=42)"
   ]
  },
  {
   "cell_type": "code",
   "execution_count": 41,
   "id": "af6df3b0",
   "metadata": {},
   "outputs": [
    {
     "data": {
      "text/plain": [
       "<1005x4325 sparse matrix of type '<class 'numpy.int64'>'\n",
       "\twith 10302 stored elements in Compressed Sparse Row format>"
      ]
     },
     "execution_count": 41,
     "metadata": {},
     "output_type": "execute_result"
    }
   ],
   "source": [
    "X_train"
   ]
  },
  {
   "cell_type": "code",
   "execution_count": 42,
   "id": "325974bf",
   "metadata": {},
   "outputs": [
    {
     "data": {
      "text/plain": [
       "<495x4325 sparse matrix of type '<class 'numpy.int64'>'\n",
       "\twith 5133 stored elements in Compressed Sparse Row format>"
      ]
     },
     "execution_count": 42,
     "metadata": {},
     "output_type": "execute_result"
    }
   ],
   "source": [
    "X_test"
   ]
  },
  {
   "cell_type": "code",
   "execution_count": 43,
   "id": "929a4b28",
   "metadata": {},
   "outputs": [
    {
     "data": {
      "text/plain": [
       "591                      m&a\n",
       "664     partnership/alliance\n",
       "195                      m&a\n",
       "1240                     m&a\n",
       "1048                 finance\n",
       "                ...         \n",
       "1130        product/solution\n",
       "1294        product/solution\n",
       "860               leadership\n",
       "1459              leadership\n",
       "1126        product/solution\n",
       "Name: sys_news_type, Length: 1005, dtype: object"
      ]
     },
     "execution_count": 43,
     "metadata": {},
     "output_type": "execute_result"
    }
   ],
   "source": [
    "y_train"
   ]
  },
  {
   "cell_type": "code",
   "execution_count": 44,
   "id": "2025453f",
   "metadata": {},
   "outputs": [
    {
     "data": {
      "text/plain": [
       "1116                     m&a\n",
       "1368                     m&a\n",
       "422     partnership/alliance\n",
       "413     partnership/alliance\n",
       "451               leadership\n",
       "                ...         \n",
       "352                      m&a\n",
       "937         product/solution\n",
       "1295        product/solution\n",
       "1392                     m&a\n",
       "1300                     m&a\n",
       "Name: sys_news_type, Length: 495, dtype: object"
      ]
     },
     "execution_count": 44,
     "metadata": {},
     "output_type": "execute_result"
    }
   ],
   "source": [
    "y_test"
   ]
  },
  {
   "cell_type": "code",
   "execution_count": 45,
   "id": "dc5b8483",
   "metadata": {},
   "outputs": [],
   "source": [
    "##training the model"
   ]
  },
  {
   "cell_type": "code",
   "execution_count": 46,
   "id": "f2bfbd15",
   "metadata": {},
   "outputs": [],
   "source": [
    "model = MultinomialNB()"
   ]
  },
  {
   "cell_type": "code",
   "execution_count": 47,
   "id": "10aeea0a",
   "metadata": {},
   "outputs": [
    {
     "data": {
      "text/plain": [
       "MultinomialNB()"
      ]
     },
     "execution_count": 47,
     "metadata": {},
     "output_type": "execute_result"
    }
   ],
   "source": [
    "model"
   ]
  },
  {
   "cell_type": "code",
   "execution_count": 48,
   "id": "3dc5de46",
   "metadata": {},
   "outputs": [
    {
     "data": {
      "text/plain": [
       "MultinomialNB()"
      ]
     },
     "execution_count": 48,
     "metadata": {},
     "output_type": "execute_result"
    }
   ],
   "source": [
    "model.fit(X_train, y_train)"
   ]
  },
  {
   "cell_type": "code",
   "execution_count": 49,
   "id": "99478e20",
   "metadata": {},
   "outputs": [],
   "source": [
    "preds = model.predict(X_test)"
   ]
  },
  {
   "cell_type": "code",
   "execution_count": 50,
   "id": "62e88d99",
   "metadata": {},
   "outputs": [],
   "source": [
    "#checking the quality of the model"
   ]
  },
  {
   "cell_type": "code",
   "execution_count": 51,
   "id": "78cafa1b",
   "metadata": {},
   "outputs": [],
   "source": [
    "from sklearn.metrics import classification_report,confusion_matrix"
   ]
  },
  {
   "cell_type": "code",
   "execution_count": 52,
   "id": "9d82589f",
   "metadata": {},
   "outputs": [
    {
     "name": "stdout",
     "output_type": "stream",
     "text": [
      "                      precision    recall  f1-score   support\n",
      "\n",
      "             finance       0.66      0.86      0.75        92\n",
      "          leadership       0.97      0.88      0.92       111\n",
      "                 m&a       0.82      0.71      0.76        90\n",
      "partnership/alliance       0.60      0.92      0.73       103\n",
      "    product/solution       0.71      0.27      0.39        99\n",
      "\n",
      "            accuracy                           0.73       495\n",
      "           macro avg       0.75      0.73      0.71       495\n",
      "        weighted avg       0.76      0.73      0.71       495\n",
      "\n"
     ]
    }
   ],
   "source": [
    "print(classification_report(y_test,preds))"
   ]
  },
  {
   "cell_type": "code",
   "execution_count": null,
   "id": "afeb9a53",
   "metadata": {},
   "outputs": [],
   "source": [
    "#based on the classification report we can see that our model is 73% accurate"
   ]
  },
  {
   "cell_type": "code",
   "execution_count": 55,
   "id": "d13937ad",
   "metadata": {},
   "outputs": [],
   "source": [
    "#so now we can use whole traning dataset as training one and redo the tasks \n",
    "#shown above on dataset that has to be classified "
   ]
  },
  {
   "cell_type": "code",
   "execution_count": 56,
   "id": "b9cf0dea",
   "metadata": {},
   "outputs": [
    {
     "data": {
      "text/html": [
       "<div>\n",
       "<style scoped>\n",
       "    .dataframe tbody tr th:only-of-type {\n",
       "        vertical-align: middle;\n",
       "    }\n",
       "\n",
       "    .dataframe tbody tr th {\n",
       "        vertical-align: top;\n",
       "    }\n",
       "\n",
       "    .dataframe thead th {\n",
       "        text-align: right;\n",
       "    }\n",
       "</style>\n",
       "<table border=\"1\" class=\"dataframe\">\n",
       "  <thead>\n",
       "    <tr style=\"text-align: right;\">\n",
       "      <th></th>\n",
       "      <th>record_id</th>\n",
       "      <th>news_link</th>\n",
       "      <th>news_title</th>\n",
       "      <th>sys_news_type</th>\n",
       "    </tr>\n",
       "  </thead>\n",
       "  <tbody>\n",
       "    <tr>\n",
       "      <th>0</th>\n",
       "      <td>1</td>\n",
       "      <td>https://www.google.com/url?rct=j&amp;sa=t&amp;url=http...</td>\n",
       "      <td>FOMC Meeting, ADP Non Farm Dan ISM Manufacturi...</td>\n",
       "      <td>leadership</td>\n",
       "    </tr>\n",
       "    <tr>\n",
       "      <th>1</th>\n",
       "      <td>2</td>\n",
       "      <td>https://www.google.com/url?rct=j&amp;sa=t&amp;url=http...</td>\n",
       "      <td>Customer Service Representative in Chatham ON ...</td>\n",
       "      <td>partnership/alliance</td>\n",
       "    </tr>\n",
       "    <tr>\n",
       "      <th>2</th>\n",
       "      <td>4</td>\n",
       "      <td>https://www.google.com/url?rct=j&amp;sa=t&amp;url=http...</td>\n",
       "      <td>Wipro Acquires Phillippines Brand Splash</td>\n",
       "      <td>m&amp;a</td>\n",
       "    </tr>\n",
       "    <tr>\n",
       "      <th>3</th>\n",
       "      <td>6</td>\n",
       "      <td>https://www.google.com/url?rct=j&amp;sa=t&amp;url=http...</td>\n",
       "      <td>Corient Capital Partners LLC Has $50000 Holdin...</td>\n",
       "      <td>finance</td>\n",
       "    </tr>\n",
       "    <tr>\n",
       "      <th>4</th>\n",
       "      <td>7</td>\n",
       "      <td>https://www.google.com/url?rct=j&amp;sa=t&amp;url=http...</td>\n",
       "      <td>Deutsche Bank ordered to tighten controls on m...</td>\n",
       "      <td>partnership/alliance</td>\n",
       "    </tr>\n",
       "  </tbody>\n",
       "</table>\n",
       "</div>"
      ],
      "text/plain": [
       "   record_id                                          news_link  \\\n",
       "0          1  https://www.google.com/url?rct=j&sa=t&url=http...   \n",
       "1          2  https://www.google.com/url?rct=j&sa=t&url=http...   \n",
       "2          4  https://www.google.com/url?rct=j&sa=t&url=http...   \n",
       "3          6  https://www.google.com/url?rct=j&sa=t&url=http...   \n",
       "4          7  https://www.google.com/url?rct=j&sa=t&url=http...   \n",
       "\n",
       "                                          news_title         sys_news_type  \n",
       "0  FOMC Meeting, ADP Non Farm Dan ISM Manufacturi...            leadership  \n",
       "1  Customer Service Representative in Chatham ON ...  partnership/alliance  \n",
       "2           Wipro Acquires Phillippines Brand Splash                   m&a  \n",
       "3  Corient Capital Partners LLC Has $50000 Holdin...               finance  \n",
       "4  Deutsche Bank ordered to tighten controls on m...  partnership/alliance  "
      ]
     },
     "execution_count": 56,
     "metadata": {},
     "output_type": "execute_result"
    }
   ],
   "source": [
    "df.head()"
   ]
  },
  {
   "cell_type": "code",
   "execution_count": 58,
   "id": "bda3e797",
   "metadata": {},
   "outputs": [],
   "source": [
    "df2 = pd.read_csv('TestSet.csv',encoding_errors='ignore')"
   ]
  },
  {
   "cell_type": "code",
   "execution_count": 59,
   "id": "8a7ba637",
   "metadata": {},
   "outputs": [
    {
     "data": {
      "text/html": [
       "<div>\n",
       "<style scoped>\n",
       "    .dataframe tbody tr th:only-of-type {\n",
       "        vertical-align: middle;\n",
       "    }\n",
       "\n",
       "    .dataframe tbody tr th {\n",
       "        vertical-align: top;\n",
       "    }\n",
       "\n",
       "    .dataframe thead th {\n",
       "        text-align: right;\n",
       "    }\n",
       "</style>\n",
       "<table border=\"1\" class=\"dataframe\">\n",
       "  <thead>\n",
       "    <tr style=\"text-align: right;\">\n",
       "      <th></th>\n",
       "      <th>record_id</th>\n",
       "      <th>news_link</th>\n",
       "      <th>news_title</th>\n",
       "      <th>sys_news_type</th>\n",
       "    </tr>\n",
       "  </thead>\n",
       "  <tbody>\n",
       "    <tr>\n",
       "      <th>0</th>\n",
       "      <td>1</td>\n",
       "      <td>https://www.google.com/url?rct=j&amp;sa=t&amp;url=http...</td>\n",
       "      <td>FOMC Meeting, ADP Non Farm Dan ISM Manufacturi...</td>\n",
       "      <td>NaN</td>\n",
       "    </tr>\n",
       "    <tr>\n",
       "      <th>1</th>\n",
       "      <td>2</td>\n",
       "      <td>https://www.google.com/url?rct=j&amp;sa=t&amp;url=http...</td>\n",
       "      <td>Customer Service Representative in Chatham ON ...</td>\n",
       "      <td>NaN</td>\n",
       "    </tr>\n",
       "    <tr>\n",
       "      <th>2</th>\n",
       "      <td>3</td>\n",
       "      <td>https://www.google.com/url?rct=j&amp;sa=t&amp;url=http...</td>\n",
       "      <td>50% H1B Applications By TCS, HCL, Infosys, Wip...</td>\n",
       "      <td>NaN</td>\n",
       "    </tr>\n",
       "    <tr>\n",
       "      <th>3</th>\n",
       "      <td>4</td>\n",
       "      <td>https://www.google.com/url?rct=j&amp;sa=t&amp;url=http...</td>\n",
       "      <td>Wipro Acquires Phillippines Brand Splash</td>\n",
       "      <td>NaN</td>\n",
       "    </tr>\n",
       "    <tr>\n",
       "      <th>4</th>\n",
       "      <td>5</td>\n",
       "      <td>https://www.google.com/url?rct=j&amp;sa=t&amp;url=http...</td>\n",
       "      <td>Software Engineer Jobs in Chantilly, VA</td>\n",
       "      <td>NaN</td>\n",
       "    </tr>\n",
       "  </tbody>\n",
       "</table>\n",
       "</div>"
      ],
      "text/plain": [
       "   record_id                                          news_link  \\\n",
       "0          1  https://www.google.com/url?rct=j&sa=t&url=http...   \n",
       "1          2  https://www.google.com/url?rct=j&sa=t&url=http...   \n",
       "2          3  https://www.google.com/url?rct=j&sa=t&url=http...   \n",
       "3          4  https://www.google.com/url?rct=j&sa=t&url=http...   \n",
       "4          5  https://www.google.com/url?rct=j&sa=t&url=http...   \n",
       "\n",
       "                                          news_title  sys_news_type  \n",
       "0  FOMC Meeting, ADP Non Farm Dan ISM Manufacturi...            NaN  \n",
       "1  Customer Service Representative in Chatham ON ...            NaN  \n",
       "2  50% H1B Applications By TCS, HCL, Infosys, Wip...            NaN  \n",
       "3           Wipro Acquires Phillippines Brand Splash            NaN  \n",
       "4            Software Engineer Jobs in Chantilly, VA            NaN  "
      ]
     },
     "execution_count": 59,
     "metadata": {},
     "output_type": "execute_result"
    }
   ],
   "source": [
    "df2.head()"
   ]
  },
  {
   "cell_type": "code",
   "execution_count": 61,
   "id": "7568626c",
   "metadata": {},
   "outputs": [],
   "source": [
    "X = df['news_title']"
   ]
  },
  {
   "cell_type": "code",
   "execution_count": 62,
   "id": "958f5b02",
   "metadata": {},
   "outputs": [],
   "source": [
    "X = cv.fit_transform(X)"
   ]
  },
  {
   "cell_type": "code",
   "execution_count": 63,
   "id": "8f2e8e9f",
   "metadata": {},
   "outputs": [
    {
     "data": {
      "text/plain": [
       "<1500x4325 sparse matrix of type '<class 'numpy.int64'>'\n",
       "\twith 15435 stored elements in Compressed Sparse Row format>"
      ]
     },
     "execution_count": 63,
     "metadata": {},
     "output_type": "execute_result"
    }
   ],
   "source": [
    "X"
   ]
  },
  {
   "cell_type": "code",
   "execution_count": 64,
   "id": "48ad29a8",
   "metadata": {},
   "outputs": [],
   "source": [
    "X_train = X\n",
    "y_train = df['sys_news_type']"
   ]
  },
  {
   "cell_type": "code",
   "execution_count": 65,
   "id": "2bbcb03b",
   "metadata": {},
   "outputs": [
    {
     "data": {
      "text/plain": [
       "0                 leadership\n",
       "1       partnership/alliance\n",
       "2                        m&a\n",
       "3                    finance\n",
       "4       partnership/alliance\n",
       "                ...         \n",
       "1495        product/solution\n",
       "1496        product/solution\n",
       "1497                     m&a\n",
       "1498              leadership\n",
       "1499        product/solution\n",
       "Name: sys_news_type, Length: 1500, dtype: object"
      ]
     },
     "execution_count": 65,
     "metadata": {},
     "output_type": "execute_result"
    }
   ],
   "source": [
    "y_train"
   ]
  },
  {
   "cell_type": "code",
   "execution_count": 66,
   "id": "88406329",
   "metadata": {},
   "outputs": [
    {
     "data": {
      "text/plain": [
       "MultinomialNB()"
      ]
     },
     "execution_count": 66,
     "metadata": {},
     "output_type": "execute_result"
    }
   ],
   "source": [
    "model.fit(X_train,y_train)"
   ]
  },
  {
   "cell_type": "code",
   "execution_count": 70,
   "id": "a12d4d28",
   "metadata": {},
   "outputs": [],
   "source": [
    "X_test = cv.transform(df2['news_title'])"
   ]
  },
  {
   "cell_type": "code",
   "execution_count": 72,
   "id": "660cc5b1",
   "metadata": {},
   "outputs": [
    {
     "data": {
      "text/plain": [
       "(4981, 4325)"
      ]
     },
     "execution_count": 72,
     "metadata": {},
     "output_type": "execute_result"
    }
   ],
   "source": [
    "X_test.shape"
   ]
  },
  {
   "cell_type": "code",
   "execution_count": 73,
   "id": "8e98c840",
   "metadata": {},
   "outputs": [],
   "source": [
    "preds = model.predict(X_test)"
   ]
  },
  {
   "cell_type": "code",
   "execution_count": 76,
   "id": "a3741391",
   "metadata": {},
   "outputs": [
    {
     "data": {
      "text/plain": [
       "array(['leadership', 'partnership/alliance', 'm&a', ...,\n",
       "       'partnership/alliance', 'm&a', 'product/solution'], dtype='<U20')"
      ]
     },
     "execution_count": 76,
     "metadata": {},
     "output_type": "execute_result"
    }
   ],
   "source": [
    "preds"
   ]
  },
  {
   "cell_type": "code",
   "execution_count": 82,
   "id": "dd83ecfc",
   "metadata": {},
   "outputs": [],
   "source": [
    "preds_df = pd.DataFrame(preds)"
   ]
  },
  {
   "cell_type": "code",
   "execution_count": 91,
   "id": "27e7fab3",
   "metadata": {},
   "outputs": [],
   "source": [
    "preds_df=preds_df.rename(columns={0:'sys_new_predicted'})"
   ]
  },
  {
   "cell_type": "code",
   "execution_count": 92,
   "id": "0b09310f",
   "metadata": {},
   "outputs": [],
   "source": [
    "df2['sys_news_type']=preds_df['sys_new_predicted']"
   ]
  },
  {
   "cell_type": "code",
   "execution_count": 93,
   "id": "63943a9c",
   "metadata": {},
   "outputs": [
    {
     "data": {
      "text/html": [
       "<div>\n",
       "<style scoped>\n",
       "    .dataframe tbody tr th:only-of-type {\n",
       "        vertical-align: middle;\n",
       "    }\n",
       "\n",
       "    .dataframe tbody tr th {\n",
       "        vertical-align: top;\n",
       "    }\n",
       "\n",
       "    .dataframe thead th {\n",
       "        text-align: right;\n",
       "    }\n",
       "</style>\n",
       "<table border=\"1\" class=\"dataframe\">\n",
       "  <thead>\n",
       "    <tr style=\"text-align: right;\">\n",
       "      <th></th>\n",
       "      <th>record_id</th>\n",
       "      <th>news_link</th>\n",
       "      <th>news_title</th>\n",
       "      <th>sys_news_type</th>\n",
       "    </tr>\n",
       "  </thead>\n",
       "  <tbody>\n",
       "    <tr>\n",
       "      <th>0</th>\n",
       "      <td>1</td>\n",
       "      <td>https://www.google.com/url?rct=j&amp;sa=t&amp;url=http...</td>\n",
       "      <td>FOMC Meeting, ADP Non Farm Dan ISM Manufacturi...</td>\n",
       "      <td>leadership</td>\n",
       "    </tr>\n",
       "    <tr>\n",
       "      <th>1</th>\n",
       "      <td>2</td>\n",
       "      <td>https://www.google.com/url?rct=j&amp;sa=t&amp;url=http...</td>\n",
       "      <td>Customer Service Representative in Chatham ON ...</td>\n",
       "      <td>partnership/alliance</td>\n",
       "    </tr>\n",
       "    <tr>\n",
       "      <th>2</th>\n",
       "      <td>3</td>\n",
       "      <td>https://www.google.com/url?rct=j&amp;sa=t&amp;url=http...</td>\n",
       "      <td>50% H1B Applications By TCS, HCL, Infosys, Wip...</td>\n",
       "      <td>m&amp;a</td>\n",
       "    </tr>\n",
       "    <tr>\n",
       "      <th>3</th>\n",
       "      <td>4</td>\n",
       "      <td>https://www.google.com/url?rct=j&amp;sa=t&amp;url=http...</td>\n",
       "      <td>Wipro Acquires Phillippines Brand Splash</td>\n",
       "      <td>m&amp;a</td>\n",
       "    </tr>\n",
       "    <tr>\n",
       "      <th>4</th>\n",
       "      <td>5</td>\n",
       "      <td>https://www.google.com/url?rct=j&amp;sa=t&amp;url=http...</td>\n",
       "      <td>Software Engineer Jobs in Chantilly, VA</td>\n",
       "      <td>product/solution</td>\n",
       "    </tr>\n",
       "  </tbody>\n",
       "</table>\n",
       "</div>"
      ],
      "text/plain": [
       "   record_id                                          news_link  \\\n",
       "0          1  https://www.google.com/url?rct=j&sa=t&url=http...   \n",
       "1          2  https://www.google.com/url?rct=j&sa=t&url=http...   \n",
       "2          3  https://www.google.com/url?rct=j&sa=t&url=http...   \n",
       "3          4  https://www.google.com/url?rct=j&sa=t&url=http...   \n",
       "4          5  https://www.google.com/url?rct=j&sa=t&url=http...   \n",
       "\n",
       "                                          news_title         sys_news_type  \n",
       "0  FOMC Meeting, ADP Non Farm Dan ISM Manufacturi...            leadership  \n",
       "1  Customer Service Representative in Chatham ON ...  partnership/alliance  \n",
       "2  50% H1B Applications By TCS, HCL, Infosys, Wip...                   m&a  \n",
       "3           Wipro Acquires Phillippines Brand Splash                   m&a  \n",
       "4            Software Engineer Jobs in Chantilly, VA      product/solution  "
      ]
     },
     "execution_count": 93,
     "metadata": {},
     "output_type": "execute_result"
    }
   ],
   "source": [
    "df2.head()"
   ]
  },
  {
   "cell_type": "code",
   "execution_count": 94,
   "id": "dba456db",
   "metadata": {},
   "outputs": [
    {
     "data": {
      "text/plain": [
       "partnership/alliance    1825\n",
       "m&a                      839\n",
       "product/solution         816\n",
       "leadership               797\n",
       "finance                  704\n",
       "Name: sys_news_type, dtype: int64"
      ]
     },
     "execution_count": 94,
     "metadata": {},
     "output_type": "execute_result"
    }
   ],
   "source": [
    "df2['sys_news_type'].value_counts()"
   ]
  },
  {
   "cell_type": "code",
   "execution_count": 98,
   "id": "0dc8686e",
   "metadata": {},
   "outputs": [
    {
     "data": {
      "text/plain": [
       "<AxesSubplot:xlabel='sys_news_type', ylabel='count'>"
      ]
     },
     "execution_count": 98,
     "metadata": {},
     "output_type": "execute_result"
    },
    {
     "data": {
      "image/png": "[encoded data removed]",
      "text/plain": [
       "<Figure size 720x432 with 1 Axes>"
      ]
     },
     "metadata": {
      "needs_background": "light"
     },
     "output_type": "display_data"
    }
   ],
   "source": [
    "plt.figure(figsize=(10,6))\n",
    "sns.set_style('darkgrid')\n",
    "sns.countplot(x=df2['sys_news_type'])"
   ]
  },
  {
   "cell_type": "code",
   "execution_count": 102,
   "id": "b23452b1",
   "metadata": {},
   "outputs": [],
   "source": [
    "df2.to_csv('C:/Users/DZCH0CV/Desktop/Python Practical Projects/classified_data.csv')"
   ]
  },
  {
   "cell_type": "code",
   "execution_count": null,
   "id": "3221dbbe",
   "metadata": {},
   "outputs": [],
   "source": []
  }
 ],
 "metadata": {
  "kernelspec": {
   "display_name": "Python 3 (ipykernel)",
   "language": "python",
   "name": "python3"
  },
  "language_info": {
   "codemirror_mode": {
    "name": "ipython",
    "version": 3
   },
   "file_extension": ".py",
   "mimetype": "text/x-python",
   "name": "python",
   "nbconvert_exporter": "python",
   "pygments_lexer": "ipython3",
   "version": "3.9.7"
  }
 },
 "nbformat": 4,
 "nbformat_minor": 5
}
